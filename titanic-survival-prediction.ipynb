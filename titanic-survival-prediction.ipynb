{
 "cells": [
  {
   "cell_type": "markdown",
   "id": "8f03469d",
   "metadata": {
    "papermill": {
     "duration": 0.037483,
     "end_time": "2022-04-02T21:29:23.067565",
     "exception": false,
     "start_time": "2022-04-02T21:29:23.030082",
     "status": "completed"
    },
    "tags": []
   },
   "source": [
    "# **Titanic Survival Prediction with Logistic Regression**\n",
    "\n",
    "This kernel was created for passenger survival prediction application using the \"Titanic-Machine Learning from Disaster\" dataset. First of all, the data set and necessary packages are downloaded. The steps which are done are as follows:\n",
    "\n",
    "1. Importing Data and Packages\n",
    "\n",
    "2. Data Exploring and Manipulation\n",
    "\n",
    "    2.1 Age Missing Values\n",
    "    \n",
    "    2.2 Cabin Missing Values\n",
    "    \n",
    "    2.3 Embarked Missing Values\n",
    "    \n",
    "3. Logistic Regression Model and Prediction\n",
    "\n",
    "    3.1 Feature Selection\n",
    "    \n",
    "    3.2 Model Training Based on Train/Test Split \n",
    "    \n",
    "4. Model Evaluation and Analysis\n",
    "\n",
    "    4.1 Receiver Operating Characteristics (ROC Curve)\n",
    "    \n",
    "    4.2 K-fold Cross-Validation\n",
    "    \n",
    "5. Submission\n"
   ]
  },
  {
   "cell_type": "markdown",
   "id": "a0bcb218",
   "metadata": {
    "id": "PND_rHseyqu3",
    "papermill": {
     "duration": 0.034625,
     "end_time": "2022-04-02T21:29:23.138629",
     "exception": false,
     "start_time": "2022-04-02T21:29:23.104004",
     "status": "completed"
    },
    "tags": []
   },
   "source": [
    "# **1. Importing Data and Packages**"
   ]
  },
  {
   "cell_type": "code",
   "execution_count": 1,
   "id": "1ceaab9b",
   "metadata": {
    "execution": {
     "iopub.execute_input": "2022-04-02T21:29:23.214447Z",
     "iopub.status.busy": "2022-04-02T21:29:23.213315Z",
     "iopub.status.idle": "2022-04-02T21:29:24.626818Z",
     "shell.execute_reply": "2022-04-02T21:29:24.626097Z",
     "shell.execute_reply.started": "2022-04-02T21:04:40.694511Z"
    },
    "executionInfo": {
     "elapsed": 2,
     "status": "ok",
     "timestamp": 1648914561921,
     "user": {
      "displayName": "Faruk BAYKARA",
      "userId": "10616267388057131477"
     },
     "user_tz": -180
    },
    "id": "cSZvA-Y_iyK3",
    "papermill": {
     "duration": 1.45318,
     "end_time": "2022-04-02T21:29:24.626984",
     "exception": false,
     "start_time": "2022-04-02T21:29:23.173804",
     "status": "completed"
    },
    "tags": []
   },
   "outputs": [],
   "source": [
    "import os\n",
    "import numpy as np # linear algebra\n",
    "import pandas as pd # data processing, CSV file I/O (e.g. pd.read_csv)\n",
    "import seaborn as sns\n",
    "import matplotlib.pyplot as plt\n",
    "from sklearn.linear_model import LogisticRegression\n",
    "from sklearn.ensemble import RandomForestClassifier,ExtraTreesClassifier\n",
    "from xgboost import XGBClassifier\n",
    "from sklearn.linear_model import LogisticRegression\n",
    "from sklearn.feature_selection import RFE\n",
    "from sklearn.model_selection import train_test_split, cross_val_score\n",
    "from sklearn.metrics import accuracy_score, classification_report, precision_score, recall_score \n",
    "from sklearn.metrics import confusion_matrix, precision_recall_curve, roc_curve, auc, log_loss"
   ]
  },
  {
   "cell_type": "code",
   "execution_count": 2,
   "id": "1909a2ed",
   "metadata": {
    "execution": {
     "iopub.execute_input": "2022-04-02T21:29:24.701395Z",
     "iopub.status.busy": "2022-04-02T21:29:24.700789Z",
     "iopub.status.idle": "2022-04-02T21:29:24.725302Z",
     "shell.execute_reply": "2022-04-02T21:29:24.724786Z",
     "shell.execute_reply.started": "2022-04-02T21:04:42.416693Z"
    },
    "executionInfo": {
     "elapsed": 926,
     "status": "ok",
     "timestamp": 1648910277898,
     "user": {
      "displayName": "Faruk BAYKARA",
      "userId": "10616267388057131477"
     },
     "user_tz": -180
    },
    "id": "DynWgVTXi6r7",
    "papermill": {
     "duration": 0.063898,
     "end_time": "2022-04-02T21:29:24.725428",
     "exception": false,
     "start_time": "2022-04-02T21:29:24.661530",
     "status": "completed"
    },
    "tags": []
   },
   "outputs": [],
   "source": [
    "train_data = pd.read_csv('/kaggle/input/titanic/train.csv')\n",
    "test_data = pd.read_csv('/kaggle/input/titanic/test.csv')\n",
    "\n",
    "        "
   ]
  },
  {
   "cell_type": "code",
   "execution_count": 3,
   "id": "96290ac3",
   "metadata": {
    "execution": {
     "iopub.execute_input": "2022-04-02T21:29:24.800176Z",
     "iopub.status.busy": "2022-04-02T21:29:24.799613Z",
     "iopub.status.idle": "2022-04-02T21:29:24.803999Z",
     "shell.execute_reply": "2022-04-02T21:29:24.804476Z",
     "shell.execute_reply.started": "2022-04-02T21:04:42.449141Z"
    },
    "executionInfo": {
     "elapsed": 289,
     "status": "ok",
     "timestamp": 1648910991223,
     "user": {
      "displayName": "Faruk BAYKARA",
      "userId": "10616267388057131477"
     },
     "user_tz": -180
    },
    "id": "ZU-zPFPHtjAG",
    "outputId": "8fde3ecd-cb5c-456b-f251-e089de396722",
    "papermill": {
     "duration": 0.043535,
     "end_time": "2022-04-02T21:29:24.804639",
     "exception": false,
     "start_time": "2022-04-02T21:29:24.761104",
     "status": "completed"
    },
    "tags": []
   },
   "outputs": [
    {
     "name": "stdout",
     "output_type": "stream",
     "text": [
      "891\n"
     ]
    }
   ],
   "source": [
    "train_data.head()\n",
    "print(train_data.shape[0])"
   ]
  },
  {
   "cell_type": "code",
   "execution_count": 4,
   "id": "a0cc699c",
   "metadata": {
    "execution": {
     "iopub.execute_input": "2022-04-02T21:29:24.877950Z",
     "iopub.status.busy": "2022-04-02T21:29:24.877291Z",
     "iopub.status.idle": "2022-04-02T21:29:24.897861Z",
     "shell.execute_reply": "2022-04-02T21:29:24.898357Z",
     "shell.execute_reply.started": "2022-04-02T21:04:42.458330Z"
    },
    "executionInfo": {
     "elapsed": 266,
     "status": "ok",
     "timestamp": 1648910944283,
     "user": {
      "displayName": "Faruk BAYKARA",
      "userId": "10616267388057131477"
     },
     "user_tz": -180
    },
    "id": "m0DiWOVMwBC0",
    "outputId": "43ddb99f-c643-41f7-a010-e3a5ee1344b9",
    "papermill": {
     "duration": 0.058598,
     "end_time": "2022-04-02T21:29:24.898536",
     "exception": false,
     "start_time": "2022-04-02T21:29:24.839938",
     "status": "completed"
    },
    "tags": []
   },
   "outputs": [
    {
     "data": {
      "text/html": [
       "<div>\n",
       "<style scoped>\n",
       "    .dataframe tbody tr th:only-of-type {\n",
       "        vertical-align: middle;\n",
       "    }\n",
       "\n",
       "    .dataframe tbody tr th {\n",
       "        vertical-align: top;\n",
       "    }\n",
       "\n",
       "    .dataframe thead th {\n",
       "        text-align: right;\n",
       "    }\n",
       "</style>\n",
       "<table border=\"1\" class=\"dataframe\">\n",
       "  <thead>\n",
       "    <tr style=\"text-align: right;\">\n",
       "      <th></th>\n",
       "      <th>PassengerId</th>\n",
       "      <th>Pclass</th>\n",
       "      <th>Name</th>\n",
       "      <th>Sex</th>\n",
       "      <th>Age</th>\n",
       "      <th>SibSp</th>\n",
       "      <th>Parch</th>\n",
       "      <th>Ticket</th>\n",
       "      <th>Fare</th>\n",
       "      <th>Cabin</th>\n",
       "      <th>Embarked</th>\n",
       "    </tr>\n",
       "  </thead>\n",
       "  <tbody>\n",
       "    <tr>\n",
       "      <th>0</th>\n",
       "      <td>892</td>\n",
       "      <td>3</td>\n",
       "      <td>Kelly, Mr. James</td>\n",
       "      <td>male</td>\n",
       "      <td>34.5</td>\n",
       "      <td>0</td>\n",
       "      <td>0</td>\n",
       "      <td>330911</td>\n",
       "      <td>7.8292</td>\n",
       "      <td>NaN</td>\n",
       "      <td>Q</td>\n",
       "    </tr>\n",
       "    <tr>\n",
       "      <th>1</th>\n",
       "      <td>893</td>\n",
       "      <td>3</td>\n",
       "      <td>Wilkes, Mrs. James (Ellen Needs)</td>\n",
       "      <td>female</td>\n",
       "      <td>47.0</td>\n",
       "      <td>1</td>\n",
       "      <td>0</td>\n",
       "      <td>363272</td>\n",
       "      <td>7.0000</td>\n",
       "      <td>NaN</td>\n",
       "      <td>S</td>\n",
       "    </tr>\n",
       "    <tr>\n",
       "      <th>2</th>\n",
       "      <td>894</td>\n",
       "      <td>2</td>\n",
       "      <td>Myles, Mr. Thomas Francis</td>\n",
       "      <td>male</td>\n",
       "      <td>62.0</td>\n",
       "      <td>0</td>\n",
       "      <td>0</td>\n",
       "      <td>240276</td>\n",
       "      <td>9.6875</td>\n",
       "      <td>NaN</td>\n",
       "      <td>Q</td>\n",
       "    </tr>\n",
       "    <tr>\n",
       "      <th>3</th>\n",
       "      <td>895</td>\n",
       "      <td>3</td>\n",
       "      <td>Wirz, Mr. Albert</td>\n",
       "      <td>male</td>\n",
       "      <td>27.0</td>\n",
       "      <td>0</td>\n",
       "      <td>0</td>\n",
       "      <td>315154</td>\n",
       "      <td>8.6625</td>\n",
       "      <td>NaN</td>\n",
       "      <td>S</td>\n",
       "    </tr>\n",
       "    <tr>\n",
       "      <th>4</th>\n",
       "      <td>896</td>\n",
       "      <td>3</td>\n",
       "      <td>Hirvonen, Mrs. Alexander (Helga E Lindqvist)</td>\n",
       "      <td>female</td>\n",
       "      <td>22.0</td>\n",
       "      <td>1</td>\n",
       "      <td>1</td>\n",
       "      <td>3101298</td>\n",
       "      <td>12.2875</td>\n",
       "      <td>NaN</td>\n",
       "      <td>S</td>\n",
       "    </tr>\n",
       "  </tbody>\n",
       "</table>\n",
       "</div>"
      ],
      "text/plain": [
       "   PassengerId  Pclass                                          Name     Sex  \\\n",
       "0          892       3                              Kelly, Mr. James    male   \n",
       "1          893       3              Wilkes, Mrs. James (Ellen Needs)  female   \n",
       "2          894       2                     Myles, Mr. Thomas Francis    male   \n",
       "3          895       3                              Wirz, Mr. Albert    male   \n",
       "4          896       3  Hirvonen, Mrs. Alexander (Helga E Lindqvist)  female   \n",
       "\n",
       "    Age  SibSp  Parch   Ticket     Fare Cabin Embarked  \n",
       "0  34.5      0      0   330911   7.8292   NaN        Q  \n",
       "1  47.0      1      0   363272   7.0000   NaN        S  \n",
       "2  62.0      0      0   240276   9.6875   NaN        Q  \n",
       "3  27.0      0      0   315154   8.6625   NaN        S  \n",
       "4  22.0      1      1  3101298  12.2875   NaN        S  "
      ]
     },
     "execution_count": 4,
     "metadata": {},
     "output_type": "execute_result"
    }
   ],
   "source": [
    "test_data.head()"
   ]
  },
  {
   "cell_type": "markdown",
   "id": "a15c1826",
   "metadata": {
    "id": "EWoR2kQVwU5O",
    "papermill": {
     "duration": 0.03364,
     "end_time": "2022-04-02T21:29:24.966821",
     "exception": false,
     "start_time": "2022-04-02T21:29:24.933181",
     "status": "completed"
    },
    "tags": []
   },
   "source": [
    "# **2. Data Exploring and Manipulation**"
   ]
  },
  {
   "cell_type": "markdown",
   "id": "483aa549",
   "metadata": {
    "papermill": {
     "duration": 0.035023,
     "end_time": "2022-04-02T21:29:25.036999",
     "exception": false,
     "start_time": "2022-04-02T21:29:25.001976",
     "status": "completed"
    },
    "tags": []
   },
   "source": [
    "In this section, the missing data in the training data were examined. Arrangements were made in the data set according to the distribution of the missing data. If the missing data is in a very small percentage, that feature is ignored, if it is more, the median or average is put in place of the missing data so that it does not adversely affect the result of the model. "
   ]
  },
  {
   "cell_type": "code",
   "execution_count": 5,
   "id": "fdf75a6c",
   "metadata": {
    "execution": {
     "iopub.execute_input": "2022-04-02T21:29:25.110879Z",
     "iopub.status.busy": "2022-04-02T21:29:25.110211Z",
     "iopub.status.idle": "2022-04-02T21:29:25.116964Z",
     "shell.execute_reply": "2022-04-02T21:29:25.117569Z",
     "shell.execute_reply.started": "2022-04-02T21:04:42.490879Z"
    },
    "executionInfo": {
     "elapsed": 289,
     "status": "ok",
     "timestamp": 1648911073608,
     "user": {
      "displayName": "Faruk BAYKARA",
      "userId": "10616267388057131477"
     },
     "user_tz": -180
    },
    "id": "07kU-fYPwTF5",
    "outputId": "6a23a4a7-cdf6-4546-fb6d-fe9377beed39",
    "papermill": {
     "duration": 0.044973,
     "end_time": "2022-04-02T21:29:25.117755",
     "exception": false,
     "start_time": "2022-04-02T21:29:25.072782",
     "status": "completed"
    },
    "tags": []
   },
   "outputs": [
    {
     "data": {
      "text/plain": [
       "PassengerId      0\n",
       "Survived         0\n",
       "Pclass           0\n",
       "Name             0\n",
       "Sex              0\n",
       "Age            177\n",
       "SibSp            0\n",
       "Parch            0\n",
       "Ticket           0\n",
       "Fare             0\n",
       "Cabin          687\n",
       "Embarked         2\n",
       "dtype: int64"
      ]
     },
     "execution_count": 5,
     "metadata": {},
     "output_type": "execute_result"
    }
   ],
   "source": [
    "train_data.isnull().sum()"
   ]
  },
  {
   "cell_type": "markdown",
   "id": "cdb18e57",
   "metadata": {
    "papermill": {
     "duration": 0.035909,
     "end_time": "2022-04-02T21:29:25.188388",
     "exception": false,
     "start_time": "2022-04-02T21:29:25.152479",
     "status": "completed"
    },
    "tags": []
   },
   "source": [
    "\n",
    "# 2.1.1 Age Missing Values"
   ]
  },
  {
   "cell_type": "code",
   "execution_count": 6,
   "id": "9b3e52d0",
   "metadata": {
    "execution": {
     "iopub.execute_input": "2022-04-02T21:29:25.261002Z",
     "iopub.status.busy": "2022-04-02T21:29:25.260404Z",
     "iopub.status.idle": "2022-04-02T21:29:25.558002Z",
     "shell.execute_reply": "2022-04-02T21:29:25.558471Z",
     "shell.execute_reply.started": "2022-04-02T21:04:42.502298Z"
    },
    "executionInfo": {
     "elapsed": 304,
     "status": "ok",
     "timestamp": 1648911365783,
     "user": {
      "displayName": "Faruk BAYKARA",
      "userId": "10616267388057131477"
     },
     "user_tz": -180
    },
    "id": "VxQpxmfAxLSD",
    "outputId": "08866baf-521e-476c-9166-7526805763cf",
    "papermill": {
     "duration": 0.335949,
     "end_time": "2022-04-02T21:29:25.558642",
     "exception": false,
     "start_time": "2022-04-02T21:29:25.222693",
     "status": "completed"
    },
    "tags": []
   },
   "outputs": [
    {
     "data": {
      "image/png": "[encoded data removed]",
      "text/plain": [
       "<Figure size 432x288 with 1 Axes>"
      ]
     },
     "metadata": {
      "needs_background": "light"
     },
     "output_type": "display_data"
    }
   ],
   "source": [
    "age_plot = train_data['Age'].hist(bins=15, density=True, stacked=True, color='teal', alpha=0.6)\n",
    "train_data['Age'].plot(kind='density', color='teal')\n",
    "age_plot.set(xlabel='Age')\n",
    "plt.xlim(-10,85)\n",
    "plt.show()"
   ]
  },
  {
   "cell_type": "markdown",
   "id": "4a6b3ab8",
   "metadata": {
    "id": "U_3JyJOrxtKj",
    "papermill": {
     "duration": 0.037642,
     "end_time": "2022-04-02T21:29:25.633559",
     "exception": false,
     "start_time": "2022-04-02T21:29:25.595917",
     "status": "completed"
    },
    "tags": []
   },
   "source": [
    "We will put median of the age's of missing age inputs!!"
   ]
  },
  {
   "cell_type": "code",
   "execution_count": 7,
   "id": "53c47bd3",
   "metadata": {
    "execution": {
     "iopub.execute_input": "2022-04-02T21:29:25.709872Z",
     "iopub.status.busy": "2022-04-02T21:29:25.709190Z",
     "iopub.status.idle": "2022-04-02T21:29:25.714973Z",
     "shell.execute_reply": "2022-04-02T21:29:25.714492Z",
     "shell.execute_reply.started": "2022-04-02T21:04:42.824511Z"
    },
    "executionInfo": {
     "elapsed": 269,
     "status": "ok",
     "timestamp": 1648911473878,
     "user": {
      "displayName": "Faruk BAYKARA",
      "userId": "10616267388057131477"
     },
     "user_tz": -180
    },
    "id": "Mp8qJ2PixsLA",
    "outputId": "8994f7cb-68ce-4757-cfa7-2f5a129018d4",
    "papermill": {
     "duration": 0.044715,
     "end_time": "2022-04-02T21:29:25.715100",
     "exception": false,
     "start_time": "2022-04-02T21:29:25.670385",
     "status": "completed"
    },
    "tags": []
   },
   "outputs": [
    {
     "name": "stdout",
     "output_type": "stream",
     "text": [
      "The median of \"Age\" is 28.00\n"
     ]
    }
   ],
   "source": [
    "print('The median of \"Age\" is %.2f' %(train_data[\"Age\"].median(skipna=True)))"
   ]
  },
  {
   "cell_type": "markdown",
   "id": "b61605fd",
   "metadata": {
    "id": "DPvEWub8y3hs",
    "papermill": {
     "duration": 0.03687,
     "end_time": "2022-04-02T21:29:25.789645",
     "exception": false,
     "start_time": "2022-04-02T21:29:25.752775",
     "status": "completed"
    },
    "tags": []
   },
   "source": [
    "# 2.1.2 Cabin Missing Values"
   ]
  },
  {
   "cell_type": "code",
   "execution_count": 8,
   "id": "96d1a9ad",
   "metadata": {
    "execution": {
     "iopub.execute_input": "2022-04-02T21:29:25.865951Z",
     "iopub.status.busy": "2022-04-02T21:29:25.865401Z",
     "iopub.status.idle": "2022-04-02T21:29:25.871685Z",
     "shell.execute_reply": "2022-04-02T21:29:25.871115Z",
     "shell.execute_reply.started": "2022-04-02T21:04:42.832237Z"
    },
    "executionInfo": {
     "elapsed": 276,
     "status": "ok",
     "timestamp": 1648911535678,
     "user": {
      "displayName": "Faruk BAYKARA",
      "userId": "10616267388057131477"
     },
     "user_tz": -180
    },
    "id": "Wzvs1aWmyGqT",
    "outputId": "c50514ca-d7c4-4fcc-e4b2-ecc972f2c4ee",
    "papermill": {
     "duration": 0.045055,
     "end_time": "2022-04-02T21:29:25.871827",
     "exception": false,
     "start_time": "2022-04-02T21:29:25.826772",
     "status": "completed"
    },
    "tags": []
   },
   "outputs": [
    {
     "name": "stdout",
     "output_type": "stream",
     "text": [
      "Percent of missing \"Cabin\" records is 77.10%\n"
     ]
    }
   ],
   "source": [
    "print('Percent of missing \"Cabin\" records is %.2f%%' %((train_data['Cabin'].isnull().sum()/train_data.shape[0])*100))"
   ]
  },
  {
   "cell_type": "markdown",
   "id": "ef63cdf1",
   "metadata": {
    "id": "_u5Ej2oNy7Vg",
    "papermill": {
     "duration": 0.038691,
     "end_time": "2022-04-02T21:29:25.947553",
     "exception": false,
     "start_time": "2022-04-02T21:29:25.908862",
     "status": "completed"
    },
    "tags": []
   },
   "source": [
    "# 2.1.3 Embarked Missing Values"
   ]
  },
  {
   "cell_type": "code",
   "execution_count": 9,
   "id": "8b6715a4",
   "metadata": {
    "execution": {
     "iopub.execute_input": "2022-04-02T21:29:26.035148Z",
     "iopub.status.busy": "2022-04-02T21:29:26.025725Z",
     "iopub.status.idle": "2022-04-02T21:29:26.188670Z",
     "shell.execute_reply": "2022-04-02T21:29:26.188065Z",
     "shell.execute_reply.started": "2022-04-02T21:04:42.847269Z"
    },
    "executionInfo": {
     "elapsed": 528,
     "status": "ok",
     "timestamp": 1648912261038,
     "user": {
      "displayName": "Faruk BAYKARA",
      "userId": "10616267388057131477"
     },
     "user_tz": -180
    },
    "id": "pHgDUyWsy9nG",
    "outputId": "10f496bc-ffa2-4c6b-c95f-412fc8500b33",
    "papermill": {
     "duration": 0.203825,
     "end_time": "2022-04-02T21:29:26.188800",
     "exception": false,
     "start_time": "2022-04-02T21:29:25.984975",
     "status": "completed"
    },
    "tags": []
   },
   "outputs": [
    {
     "name": "stdout",
     "output_type": "stream",
     "text": [
      "Percent of missing \"Embarked\" records is 0.22%\n",
      "Boarded passengers grouped by port of embarkation (C = Cherbourg, Q = Queenstown, S = Southampton):\n",
      "S    644\n",
      "C    168\n",
      "Q     77\n",
      "Name: Embarked, dtype: int64\n"
     ]
    },
    {
     "data": {
      "image/png": "[encoded data removed]",
      "text/plain": [
       "<Figure size 432x288 with 1 Axes>"
      ]
     },
     "metadata": {
      "needs_background": "light"
     },
     "output_type": "display_data"
    }
   ],
   "source": [
    "# percent of missing \"Embarked\" \n",
    "print('Percent of missing \"Embarked\" records is %.2f%%' %((train_data['Embarked'].isnull().sum()/train_data.shape[0])*100))\n",
    "print('Boarded passengers grouped by port of embarkation (C = Cherbourg, Q = Queenstown, S = Southampton):')\n",
    "print(train_data['Embarked'].value_counts())\n",
    "sns.countplot(x='Embarked', data=train_data, palette='Set2')\n",
    "plt.show()"
   ]
  },
  {
   "cell_type": "markdown",
   "id": "020ec85e",
   "metadata": {
    "id": "sntcVi0K1HJz",
    "papermill": {
     "duration": 0.037431,
     "end_time": "2022-04-02T21:29:26.264208",
     "exception": false,
     "start_time": "2022-04-02T21:29:26.226777",
     "status": "completed"
    },
    "tags": []
   },
   "source": [
    "# 2.2 Data Manipulation"
   ]
  },
  {
   "cell_type": "code",
   "execution_count": 10,
   "id": "1658551c",
   "metadata": {
    "execution": {
     "iopub.execute_input": "2022-04-02T21:29:26.347676Z",
     "iopub.status.busy": "2022-04-02T21:29:26.342787Z",
     "iopub.status.idle": "2022-04-02T21:29:26.355901Z",
     "shell.execute_reply": "2022-04-02T21:29:26.356327Z",
     "shell.execute_reply.started": "2022-04-02T21:04:43.027693Z"
    },
    "executionInfo": {
     "elapsed": 251,
     "status": "ok",
     "timestamp": 1648912442811,
     "user": {
      "displayName": "Faruk BAYKARA",
      "userId": "10616267388057131477"
     },
     "user_tz": -180
    },
    "id": "hJFYLXAh1MtE",
    "outputId": "ccf6c981-1914-4b6e-a2a3-a0a1bb31be18",
    "papermill": {
     "duration": 0.054506,
     "end_time": "2022-04-02T21:29:26.356510",
     "exception": false,
     "start_time": "2022-04-02T21:29:26.302004",
     "status": "completed"
    },
    "tags": []
   },
   "outputs": [
    {
     "data": {
      "text/plain": [
       "PassengerId    0\n",
       "Survived       0\n",
       "Pclass         0\n",
       "Name           0\n",
       "Sex            0\n",
       "Age            0\n",
       "SibSp          0\n",
       "Parch          0\n",
       "Ticket         0\n",
       "Fare           0\n",
       "Embarked       0\n",
       "dtype: int64"
      ]
     },
     "execution_count": 10,
     "metadata": {},
     "output_type": "execute_result"
    }
   ],
   "source": [
    "train_data_manip = train_data.copy()\n",
    "train_data_manip[\"Age\"].fillna(train_data[\"Age\"].median(skipna=True), inplace=True)\n",
    "train_data_manip[\"Embarked\"].fillna(train_data['Embarked'].value_counts().idxmax(), inplace=True)\n",
    "train_data_manip.drop('Cabin', axis=1, inplace=True)\n",
    "train_data_manip.isnull().sum()"
   ]
  },
  {
   "cell_type": "markdown",
   "id": "c0f64a21",
   "metadata": {
    "id": "AXnkEq2R2OiM",
    "papermill": {
     "duration": 0.037669,
     "end_time": "2022-04-02T21:29:26.431994",
     "exception": false,
     "start_time": "2022-04-02T21:29:26.394325",
     "status": "completed"
    },
    "tags": []
   },
   "source": [
    "Visualizing adjusted and raw data."
   ]
  },
  {
   "cell_type": "code",
   "execution_count": 11,
   "id": "7e710b39",
   "metadata": {
    "execution": {
     "iopub.execute_input": "2022-04-02T21:29:26.511183Z",
     "iopub.status.busy": "2022-04-02T21:29:26.510642Z",
     "iopub.status.idle": "2022-04-02T21:29:26.852638Z",
     "shell.execute_reply": "2022-04-02T21:29:26.853227Z",
     "shell.execute_reply.started": "2022-04-02T21:04:43.047700Z"
    },
    "executionInfo": {
     "elapsed": 962,
     "status": "ok",
     "timestamp": 1648912610103,
     "user": {
      "displayName": "Faruk BAYKARA",
      "userId": "10616267388057131477"
     },
     "user_tz": -180
    },
    "id": "joNtnUws2SpV",
    "outputId": "8d3b16f9-a879-40ce-82e3-e8bb5eaf76d1",
    "papermill": {
     "duration": 0.383832,
     "end_time": "2022-04-02T21:29:26.853462",
     "exception": false,
     "start_time": "2022-04-02T21:29:26.469630",
     "status": "completed"
    },
    "tags": []
   },
   "outputs": [
    {
     "data": {
      "image/png": "[encoded data removed]",
      "text/plain": [
       "<Figure size 1080x576 with 1 Axes>"
      ]
     },
     "metadata": {
      "needs_background": "light"
     },
     "output_type": "display_data"
    }
   ],
   "source": [
    "plt.figure(figsize=(15,8))\n",
    "ax = train_data[\"Age\"].hist(bins=15, density=True, stacked=True, color='teal', alpha=0.6)\n",
    "train_data[\"Age\"].plot(kind='density', color='teal')\n",
    "ax = train_data_manip[\"Age\"].hist(bins=15, density=True, stacked=True, color='orange', alpha=0.5)\n",
    "train_data_manip[\"Age\"].plot(kind='density', color='orange')\n",
    "ax.legend(['Raw Age', 'Adjusted Age'])\n",
    "ax.set(xlabel='Age')\n",
    "plt.xlim(-10,85)\n",
    "plt.show()"
   ]
  },
  {
   "cell_type": "markdown",
   "id": "0e05cc73",
   "metadata": {
    "id": "0-EdR2-g243t",
    "papermill": {
     "duration": 0.040496,
     "end_time": "2022-04-02T21:29:26.935576",
     "exception": false,
     "start_time": "2022-04-02T21:29:26.895080",
     "status": "completed"
    },
    "tags": []
   },
   "source": [
    "# 2.3. Additional Variables\n",
    "\n",
    "According to the Kaggle data dictionary, both SibSp and Parch relate to traveling with family. For simplicity's sake (and to account for possible multicollinearity), I'll combine the effect of these variables into one categorical predictor: whether or not that individual was traveling alone."
   ]
  },
  {
   "cell_type": "code",
   "execution_count": 12,
   "id": "bde39583",
   "metadata": {
    "execution": {
     "iopub.execute_input": "2022-04-02T21:29:27.024589Z",
     "iopub.status.busy": "2022-04-02T21:29:27.023514Z",
     "iopub.status.idle": "2022-04-02T21:29:27.027713Z",
     "shell.execute_reply": "2022-04-02T21:29:27.028305Z",
     "shell.execute_reply.started": "2022-04-02T21:04:43.408217Z"
    },
    "executionInfo": {
     "elapsed": 264,
     "status": "ok",
     "timestamp": 1648912784899,
     "user": {
      "displayName": "Faruk BAYKARA",
      "userId": "10616267388057131477"
     },
     "user_tz": -180
    },
    "id": "xMTKyHEB2cp4",
    "papermill": {
     "duration": 0.052339,
     "end_time": "2022-04-02T21:29:27.028464",
     "exception": false,
     "start_time": "2022-04-02T21:29:26.976125",
     "status": "completed"
    },
    "tags": []
   },
   "outputs": [],
   "source": [
    "train_data_manip['TravelAlone']=np.where((train_data_manip[\"SibSp\"]+train_data_manip[\"Parch\"])>0, 0, 1)\n",
    "train_data_manip.drop('SibSp', axis=1, inplace=True)\n",
    "train_data_manip.drop('Parch', axis=1, inplace=True)"
   ]
  },
  {
   "cell_type": "code",
   "execution_count": 13,
   "id": "cca39628",
   "metadata": {
    "execution": {
     "iopub.execute_input": "2022-04-02T21:29:27.115692Z",
     "iopub.status.busy": "2022-04-02T21:29:27.114818Z",
     "iopub.status.idle": "2022-04-02T21:29:27.139532Z",
     "shell.execute_reply": "2022-04-02T21:29:27.140032Z",
     "shell.execute_reply.started": "2022-04-02T21:04:43.419663Z"
    },
    "executionInfo": {
     "elapsed": 266,
     "status": "ok",
     "timestamp": 1648912817455,
     "user": {
      "displayName": "Faruk BAYKARA",
      "userId": "10616267388057131477"
     },
     "user_tz": -180
    },
    "id": "XsIdjdRw3Ie-",
    "outputId": "95fa35ce-4689-4b62-ef52-2e67c9891707",
    "papermill": {
     "duration": 0.069668,
     "end_time": "2022-04-02T21:29:27.140200",
     "exception": false,
     "start_time": "2022-04-02T21:29:27.070532",
     "status": "completed"
    },
    "tags": []
   },
   "outputs": [
    {
     "data": {
      "text/html": [
       "<div>\n",
       "<style scoped>\n",
       "    .dataframe tbody tr th:only-of-type {\n",
       "        vertical-align: middle;\n",
       "    }\n",
       "\n",
       "    .dataframe tbody tr th {\n",
       "        vertical-align: top;\n",
       "    }\n",
       "\n",
       "    .dataframe thead th {\n",
       "        text-align: right;\n",
       "    }\n",
       "</style>\n",
       "<table border=\"1\" class=\"dataframe\">\n",
       "  <thead>\n",
       "    <tr style=\"text-align: right;\">\n",
       "      <th></th>\n",
       "      <th>Survived</th>\n",
       "      <th>Age</th>\n",
       "      <th>Fare</th>\n",
       "      <th>TravelAlone</th>\n",
       "      <th>Pclass_1</th>\n",
       "      <th>Pclass_2</th>\n",
       "      <th>Pclass_3</th>\n",
       "      <th>Embarked_C</th>\n",
       "      <th>Embarked_Q</th>\n",
       "      <th>Embarked_S</th>\n",
       "      <th>Sex_male</th>\n",
       "    </tr>\n",
       "  </thead>\n",
       "  <tbody>\n",
       "    <tr>\n",
       "      <th>0</th>\n",
       "      <td>0</td>\n",
       "      <td>22.0</td>\n",
       "      <td>7.2500</td>\n",
       "      <td>0</td>\n",
       "      <td>0</td>\n",
       "      <td>0</td>\n",
       "      <td>1</td>\n",
       "      <td>0</td>\n",
       "      <td>0</td>\n",
       "      <td>1</td>\n",
       "      <td>1</td>\n",
       "    </tr>\n",
       "    <tr>\n",
       "      <th>1</th>\n",
       "      <td>1</td>\n",
       "      <td>38.0</td>\n",
       "      <td>71.2833</td>\n",
       "      <td>0</td>\n",
       "      <td>1</td>\n",
       "      <td>0</td>\n",
       "      <td>0</td>\n",
       "      <td>1</td>\n",
       "      <td>0</td>\n",
       "      <td>0</td>\n",
       "      <td>0</td>\n",
       "    </tr>\n",
       "    <tr>\n",
       "      <th>2</th>\n",
       "      <td>1</td>\n",
       "      <td>26.0</td>\n",
       "      <td>7.9250</td>\n",
       "      <td>1</td>\n",
       "      <td>0</td>\n",
       "      <td>0</td>\n",
       "      <td>1</td>\n",
       "      <td>0</td>\n",
       "      <td>0</td>\n",
       "      <td>1</td>\n",
       "      <td>0</td>\n",
       "    </tr>\n",
       "    <tr>\n",
       "      <th>3</th>\n",
       "      <td>1</td>\n",
       "      <td>35.0</td>\n",
       "      <td>53.1000</td>\n",
       "      <td>0</td>\n",
       "      <td>1</td>\n",
       "      <td>0</td>\n",
       "      <td>0</td>\n",
       "      <td>0</td>\n",
       "      <td>0</td>\n",
       "      <td>1</td>\n",
       "      <td>0</td>\n",
       "    </tr>\n",
       "    <tr>\n",
       "      <th>4</th>\n",
       "      <td>0</td>\n",
       "      <td>35.0</td>\n",
       "      <td>8.0500</td>\n",
       "      <td>1</td>\n",
       "      <td>0</td>\n",
       "      <td>0</td>\n",
       "      <td>1</td>\n",
       "      <td>0</td>\n",
       "      <td>0</td>\n",
       "      <td>1</td>\n",
       "      <td>1</td>\n",
       "    </tr>\n",
       "  </tbody>\n",
       "</table>\n",
       "</div>"
      ],
      "text/plain": [
       "   Survived   Age     Fare  TravelAlone  Pclass_1  Pclass_2  Pclass_3  \\\n",
       "0         0  22.0   7.2500            0         0         0         1   \n",
       "1         1  38.0  71.2833            0         1         0         0   \n",
       "2         1  26.0   7.9250            1         0         0         1   \n",
       "3         1  35.0  53.1000            0         1         0         0   \n",
       "4         0  35.0   8.0500            1         0         0         1   \n",
       "\n",
       "   Embarked_C  Embarked_Q  Embarked_S  Sex_male  \n",
       "0           0           0           1         1  \n",
       "1           1           0           0         0  \n",
       "2           0           0           1         0  \n",
       "3           0           0           1         0  \n",
       "4           0           0           1         1  "
      ]
     },
     "execution_count": 13,
     "metadata": {},
     "output_type": "execute_result"
    }
   ],
   "source": [
    "training=pd.get_dummies(train_data_manip, columns=[\"Pclass\",\"Embarked\",\"Sex\"])\n",
    "training.drop('Sex_female', axis=1, inplace=True)\n",
    "training.drop('PassengerId', axis=1, inplace=True)\n",
    "training.drop('Name', axis=1, inplace=True)\n",
    "training.drop('Ticket', axis=1, inplace=True)\n",
    "\n",
    "final_train = training\n",
    "final_train.head()"
   ]
  },
  {
   "cell_type": "markdown",
   "id": "e8125b73",
   "metadata": {
    "id": "5jpvvlWH3UhO",
    "papermill": {
     "duration": 0.040881,
     "end_time": "2022-04-02T21:29:27.223113",
     "exception": false,
     "start_time": "2022-04-02T21:29:27.182232",
     "status": "completed"
    },
    "tags": []
   },
   "source": [
    "We will aplly same changes to the test data. "
   ]
  },
  {
   "cell_type": "code",
   "execution_count": 14,
   "id": "68cb86cc",
   "metadata": {
    "execution": {
     "iopub.execute_input": "2022-04-02T21:29:27.310116Z",
     "iopub.status.busy": "2022-04-02T21:29:27.309412Z",
     "iopub.status.idle": "2022-04-02T21:29:27.341082Z",
     "shell.execute_reply": "2022-04-02T21:29:27.341659Z",
     "shell.execute_reply.started": "2022-04-02T21:04:43.457669Z"
    },
    "executionInfo": {
     "elapsed": 288,
     "status": "ok",
     "timestamp": 1648913077433,
     "user": {
      "displayName": "Faruk BAYKARA",
      "userId": "10616267388057131477"
     },
     "user_tz": -180
    },
    "id": "bDyVxF4T3aYp",
    "outputId": "95cf88d5-c3fe-49fc-a0ab-2cecab83e19f",
    "papermill": {
     "duration": 0.077891,
     "end_time": "2022-04-02T21:29:27.341843",
     "exception": false,
     "start_time": "2022-04-02T21:29:27.263952",
     "status": "completed"
    },
    "tags": []
   },
   "outputs": [
    {
     "data": {
      "text/html": [
       "<div>\n",
       "<style scoped>\n",
       "    .dataframe tbody tr th:only-of-type {\n",
       "        vertical-align: middle;\n",
       "    }\n",
       "\n",
       "    .dataframe tbody tr th {\n",
       "        vertical-align: top;\n",
       "    }\n",
       "\n",
       "    .dataframe thead th {\n",
       "        text-align: right;\n",
       "    }\n",
       "</style>\n",
       "<table border=\"1\" class=\"dataframe\">\n",
       "  <thead>\n",
       "    <tr style=\"text-align: right;\">\n",
       "      <th></th>\n",
       "      <th>Age</th>\n",
       "      <th>Fare</th>\n",
       "      <th>TravelAlone</th>\n",
       "      <th>Pclass_1</th>\n",
       "      <th>Pclass_2</th>\n",
       "      <th>Pclass_3</th>\n",
       "      <th>Embarked_C</th>\n",
       "      <th>Embarked_Q</th>\n",
       "      <th>Embarked_S</th>\n",
       "      <th>Sex_male</th>\n",
       "    </tr>\n",
       "  </thead>\n",
       "  <tbody>\n",
       "    <tr>\n",
       "      <th>0</th>\n",
       "      <td>34.5</td>\n",
       "      <td>7.8292</td>\n",
       "      <td>1</td>\n",
       "      <td>0</td>\n",
       "      <td>0</td>\n",
       "      <td>1</td>\n",
       "      <td>0</td>\n",
       "      <td>1</td>\n",
       "      <td>0</td>\n",
       "      <td>1</td>\n",
       "    </tr>\n",
       "    <tr>\n",
       "      <th>1</th>\n",
       "      <td>47.0</td>\n",
       "      <td>7.0000</td>\n",
       "      <td>0</td>\n",
       "      <td>0</td>\n",
       "      <td>0</td>\n",
       "      <td>1</td>\n",
       "      <td>0</td>\n",
       "      <td>0</td>\n",
       "      <td>1</td>\n",
       "      <td>0</td>\n",
       "    </tr>\n",
       "    <tr>\n",
       "      <th>2</th>\n",
       "      <td>62.0</td>\n",
       "      <td>9.6875</td>\n",
       "      <td>1</td>\n",
       "      <td>0</td>\n",
       "      <td>1</td>\n",
       "      <td>0</td>\n",
       "      <td>0</td>\n",
       "      <td>1</td>\n",
       "      <td>0</td>\n",
       "      <td>1</td>\n",
       "    </tr>\n",
       "    <tr>\n",
       "      <th>3</th>\n",
       "      <td>27.0</td>\n",
       "      <td>8.6625</td>\n",
       "      <td>1</td>\n",
       "      <td>0</td>\n",
       "      <td>0</td>\n",
       "      <td>1</td>\n",
       "      <td>0</td>\n",
       "      <td>0</td>\n",
       "      <td>1</td>\n",
       "      <td>1</td>\n",
       "    </tr>\n",
       "    <tr>\n",
       "      <th>4</th>\n",
       "      <td>22.0</td>\n",
       "      <td>12.2875</td>\n",
       "      <td>0</td>\n",
       "      <td>0</td>\n",
       "      <td>0</td>\n",
       "      <td>1</td>\n",
       "      <td>0</td>\n",
       "      <td>0</td>\n",
       "      <td>1</td>\n",
       "      <td>0</td>\n",
       "    </tr>\n",
       "  </tbody>\n",
       "</table>\n",
       "</div>"
      ],
      "text/plain": [
       "    Age     Fare  TravelAlone  Pclass_1  Pclass_2  Pclass_3  Embarked_C  \\\n",
       "0  34.5   7.8292            1         0         0         1           0   \n",
       "1  47.0   7.0000            0         0         0         1           0   \n",
       "2  62.0   9.6875            1         0         1         0           0   \n",
       "3  27.0   8.6625            1         0         0         1           0   \n",
       "4  22.0  12.2875            0         0         0         1           0   \n",
       "\n",
       "   Embarked_Q  Embarked_S  Sex_male  \n",
       "0           1           0         1  \n",
       "1           0           1         0  \n",
       "2           1           0         1  \n",
       "3           0           1         1  \n",
       "4           0           1         0  "
      ]
     },
     "execution_count": 14,
     "metadata": {},
     "output_type": "execute_result"
    }
   ],
   "source": [
    "test_data.isnull().sum()\n",
    "test_data_manip = test_data.copy()\n",
    "test_data_manip[\"Age\"].fillna(train_data[\"Age\"].median(skipna=True), inplace=True)\n",
    "test_data_manip[\"Fare\"].fillna(train_data[\"Fare\"].median(skipna=True), inplace=True)\n",
    "test_data_manip.drop('Cabin', axis=1, inplace=True)\n",
    "\n",
    "test_data_manip['TravelAlone']=np.where((test_data_manip[\"SibSp\"]+test_data_manip[\"Parch\"])>0, 0, 1)\n",
    "\n",
    "test_data_manip.drop('SibSp', axis=1, inplace=True)\n",
    "test_data_manip.drop('Parch', axis=1, inplace=True)\n",
    "\n",
    "testing = pd.get_dummies(test_data_manip, columns=[\"Pclass\",\"Embarked\",\"Sex\"])\n",
    "testing.drop('Sex_female', axis=1, inplace=True)\n",
    "testing.drop('PassengerId', axis=1, inplace=True)\n",
    "testing.drop('Name', axis=1, inplace=True)\n",
    "testing.drop('Ticket', axis=1, inplace=True)\n",
    "\n",
    "final_test = testing\n",
    "final_test.head()"
   ]
  },
  {
   "cell_type": "code",
   "execution_count": 15,
   "id": "b4466218",
   "metadata": {
    "execution": {
     "iopub.execute_input": "2022-04-02T21:29:27.429760Z",
     "iopub.status.busy": "2022-04-02T21:29:27.429101Z",
     "iopub.status.idle": "2022-04-02T21:29:27.434675Z",
     "shell.execute_reply": "2022-04-02T21:29:27.435209Z",
     "shell.execute_reply.started": "2022-04-02T21:04:43.500569Z"
    },
    "executionInfo": {
     "elapsed": 275,
     "status": "ok",
     "timestamp": 1648913614561,
     "user": {
      "displayName": "Faruk BAYKARA",
      "userId": "10616267388057131477"
     },
     "user_tz": -180
    },
    "id": "DYreJahm6Oyl",
    "papermill": {
     "duration": 0.051193,
     "end_time": "2022-04-02T21:29:27.435406",
     "exception": false,
     "start_time": "2022-04-02T21:29:27.384213",
     "status": "completed"
    },
    "tags": []
   },
   "outputs": [],
   "source": [
    "final_train['IsMinor']=np.where(final_train['Age']<=16, 1, 0)\n",
    "\n",
    "final_test['IsMinor']=np.where(final_test['Age']<=16, 1, 0)"
   ]
  },
  {
   "cell_type": "markdown",
   "id": "8ea38029",
   "metadata": {
    "id": "eaJvdCdy5rw8",
    "papermill": {
     "duration": 0.041988,
     "end_time": "2022-04-02T21:29:27.520215",
     "exception": false,
     "start_time": "2022-04-02T21:29:27.478227",
     "status": "completed"
    },
    "tags": []
   },
   "source": [
    "# 3. Logistic Regression Model and Prediction "
   ]
  },
  {
   "cell_type": "markdown",
   "id": "2444dd72",
   "metadata": {
    "_kg_hide-output": false,
    "papermill": {
     "duration": 0.042205,
     "end_time": "2022-04-02T21:29:27.605011",
     "exception": false,
     "start_time": "2022-04-02T21:29:27.562806",
     "status": "completed"
    },
    "tags": []
   },
   "source": [
    "İn this part, Logistic regression model applied to the data. Firstly model is created, and then train and test data splitted. After the seperation, training is made. "
   ]
  },
  {
   "cell_type": "markdown",
   "id": "6a2205ce",
   "metadata": {
    "papermill": {
     "duration": 0.041475,
     "end_time": "2022-04-02T21:29:27.688676",
     "exception": false,
     "start_time": "2022-04-02T21:29:27.647201",
     "status": "completed"
    },
    "tags": []
   },
   "source": [
    "# 3.1 Feature Selection\n",
    "\n",
    "Given an external estimator that assigns weights to features, recursive feature elimination (RFE) is to select features by recursively considering smaller and smaller sets of features. First, the estimator is trained on the initial set of features and the importance of each feature is obtained either through a coef_ attribute or through a feature_importances_ attribute. Then, the least important features are pruned from current set of features.That procedure is recursively repeated on the pruned set until the desired number of features to select is eventually reached."
   ]
  },
  {
   "cell_type": "code",
   "execution_count": 16,
   "id": "ce0f3ec5",
   "metadata": {
    "execution": {
     "iopub.execute_input": "2022-04-02T21:29:27.782324Z",
     "iopub.status.busy": "2022-04-02T21:29:27.781644Z",
     "iopub.status.idle": "2022-04-02T21:29:27.863840Z",
     "shell.execute_reply": "2022-04-02T21:29:27.864666Z",
     "shell.execute_reply.started": "2022-04-02T21:11:59.952286Z"
    },
    "executionInfo": {
     "elapsed": 319,
     "status": "ok",
     "timestamp": 1648914238903,
     "user": {
      "displayName": "Faruk BAYKARA",
      "userId": "10616267388057131477"
     },
     "user_tz": -180
    },
    "id": "kTarpEy_6yIy",
    "outputId": "9a98bdd1-6e07-4602-cd02-4393674bed13",
    "papermill": {
     "duration": 0.134208,
     "end_time": "2022-04-02T21:29:27.864834",
     "exception": false,
     "start_time": "2022-04-02T21:29:27.730626",
     "status": "completed"
    },
    "tags": []
   },
   "outputs": [
    {
     "name": "stdout",
     "output_type": "stream",
     "text": [
      "Selected features: ['Pclass_1', 'Pclass_2', 'Sex_male', 'IsMinor']\n"
     ]
    },
    {
     "name": "stderr",
     "output_type": "stream",
     "text": [
      "/opt/conda/lib/python3.7/site-packages/sklearn/linear_model/_logistic.py:818: ConvergenceWarning: lbfgs failed to converge (status=1):\n",
      "STOP: TOTAL NO. of ITERATIONS REACHED LIMIT.\n",
      "\n",
      "Increase the number of iterations (max_iter) or scale the data as shown in:\n",
      "    https://scikit-learn.org/stable/modules/preprocessing.html\n",
      "Please also refer to the documentation for alternative solver options:\n",
      "    https://scikit-learn.org/stable/modules/linear_model.html#logistic-regression\n",
      "  extra_warning_msg=_LOGISTIC_SOLVER_CONVERGENCE_MSG,\n"
     ]
    }
   ],
   "source": [
    "from sklearn.linear_model import LogisticRegression\n",
    "from sklearn.feature_selection import RFE\n",
    "\n",
    "cols = [\"Age\",\"Fare\",\"TravelAlone\",\"Pclass_1\",\"Pclass_2\",\"Embarked_C\",\"Embarked_S\",\"Sex_male\",\"IsMinor\"] \n",
    "X = final_train[cols]\n",
    "y = final_train['Survived']\n",
    "# Build a logreg and compute the feature importances\n",
    "model = LogisticRegression()\n",
    "# create the RFE model and select 8 attributes\n",
    "rfe = RFE(model)\n",
    "rfe = rfe.fit(X, y)\n",
    "# summarize the selection of the attributes\n",
    "print('Selected features: %s' % list(X.columns[rfe.support_]))"
   ]
  },
  {
   "cell_type": "code",
   "execution_count": 17,
   "id": "4618cbd4",
   "metadata": {
    "execution": {
     "iopub.execute_input": "2022-04-02T21:29:27.952953Z",
     "iopub.status.busy": "2022-04-02T21:29:27.951886Z",
     "iopub.status.idle": "2022-04-02T21:29:29.234156Z",
     "shell.execute_reply": "2022-04-02T21:29:29.233537Z",
     "shell.execute_reply.started": "2022-04-02T21:04:43.575335Z"
    },
    "executionInfo": {
     "elapsed": 1225,
     "status": "ok",
     "timestamp": 1648914248631,
     "user": {
      "displayName": "Faruk BAYKARA",
      "userId": "10616267388057131477"
     },
     "user_tz": -180
    },
    "id": "8AoGLmRQ8OP9",
    "outputId": "def541ef-5dc8-454c-b662-55a2030ebd00",
    "papermill": {
     "duration": 1.327095,
     "end_time": "2022-04-02T21:29:29.234315",
     "exception": false,
     "start_time": "2022-04-02T21:29:27.907220",
     "status": "completed"
    },
    "tags": []
   },
   "outputs": [
    {
     "name": "stderr",
     "output_type": "stream",
     "text": [
      "/opt/conda/lib/python3.7/site-packages/sklearn/linear_model/_logistic.py:818: ConvergenceWarning: lbfgs failed to converge (status=1):\n",
      "STOP: TOTAL NO. of ITERATIONS REACHED LIMIT.\n",
      "\n",
      "Increase the number of iterations (max_iter) or scale the data as shown in:\n",
      "    https://scikit-learn.org/stable/modules/preprocessing.html\n",
      "Please also refer to the documentation for alternative solver options:\n",
      "    https://scikit-learn.org/stable/modules/linear_model.html#logistic-regression\n",
      "  extra_warning_msg=_LOGISTIC_SOLVER_CONVERGENCE_MSG,\n",
      "/opt/conda/lib/python3.7/site-packages/sklearn/linear_model/_logistic.py:818: ConvergenceWarning: lbfgs failed to converge (status=1):\n",
      "STOP: TOTAL NO. of ITERATIONS REACHED LIMIT.\n",
      "\n",
      "Increase the number of iterations (max_iter) or scale the data as shown in:\n",
      "    https://scikit-learn.org/stable/modules/preprocessing.html\n",
      "Please also refer to the documentation for alternative solver options:\n",
      "    https://scikit-learn.org/stable/modules/linear_model.html#logistic-regression\n",
      "  extra_warning_msg=_LOGISTIC_SOLVER_CONVERGENCE_MSG,\n",
      "/opt/conda/lib/python3.7/site-packages/sklearn/linear_model/_logistic.py:818: ConvergenceWarning: lbfgs failed to converge (status=1):\n",
      "STOP: TOTAL NO. of ITERATIONS REACHED LIMIT.\n",
      "\n",
      "Increase the number of iterations (max_iter) or scale the data as shown in:\n",
      "    https://scikit-learn.org/stable/modules/preprocessing.html\n",
      "Please also refer to the documentation for alternative solver options:\n",
      "    https://scikit-learn.org/stable/modules/linear_model.html#logistic-regression\n",
      "  extra_warning_msg=_LOGISTIC_SOLVER_CONVERGENCE_MSG,\n",
      "/opt/conda/lib/python3.7/site-packages/sklearn/linear_model/_logistic.py:818: ConvergenceWarning: lbfgs failed to converge (status=1):\n",
      "STOP: TOTAL NO. of ITERATIONS REACHED LIMIT.\n",
      "\n",
      "Increase the number of iterations (max_iter) or scale the data as shown in:\n",
      "    https://scikit-learn.org/stable/modules/preprocessing.html\n",
      "Please also refer to the documentation for alternative solver options:\n",
      "    https://scikit-learn.org/stable/modules/linear_model.html#logistic-regression\n",
      "  extra_warning_msg=_LOGISTIC_SOLVER_CONVERGENCE_MSG,\n",
      "/opt/conda/lib/python3.7/site-packages/sklearn/linear_model/_logistic.py:818: ConvergenceWarning: lbfgs failed to converge (status=1):\n",
      "STOP: TOTAL NO. of ITERATIONS REACHED LIMIT.\n",
      "\n",
      "Increase the number of iterations (max_iter) or scale the data as shown in:\n",
      "    https://scikit-learn.org/stable/modules/preprocessing.html\n",
      "Please also refer to the documentation for alternative solver options:\n",
      "    https://scikit-learn.org/stable/modules/linear_model.html#logistic-regression\n",
      "  extra_warning_msg=_LOGISTIC_SOLVER_CONVERGENCE_MSG,\n",
      "/opt/conda/lib/python3.7/site-packages/sklearn/linear_model/_logistic.py:818: ConvergenceWarning: lbfgs failed to converge (status=1):\n",
      "STOP: TOTAL NO. of ITERATIONS REACHED LIMIT.\n",
      "\n",
      "Increase the number of iterations (max_iter) or scale the data as shown in:\n",
      "    https://scikit-learn.org/stable/modules/preprocessing.html\n",
      "Please also refer to the documentation for alternative solver options:\n",
      "    https://scikit-learn.org/stable/modules/linear_model.html#logistic-regression\n",
      "  extra_warning_msg=_LOGISTIC_SOLVER_CONVERGENCE_MSG,\n",
      "/opt/conda/lib/python3.7/site-packages/sklearn/linear_model/_logistic.py:818: ConvergenceWarning: lbfgs failed to converge (status=1):\n",
      "STOP: TOTAL NO. of ITERATIONS REACHED LIMIT.\n",
      "\n",
      "Increase the number of iterations (max_iter) or scale the data as shown in:\n",
      "    https://scikit-learn.org/stable/modules/preprocessing.html\n",
      "Please also refer to the documentation for alternative solver options:\n",
      "    https://scikit-learn.org/stable/modules/linear_model.html#logistic-regression\n",
      "  extra_warning_msg=_LOGISTIC_SOLVER_CONVERGENCE_MSG,\n",
      "/opt/conda/lib/python3.7/site-packages/sklearn/linear_model/_logistic.py:818: ConvergenceWarning: lbfgs failed to converge (status=1):\n",
      "STOP: TOTAL NO. of ITERATIONS REACHED LIMIT.\n",
      "\n",
      "Increase the number of iterations (max_iter) or scale the data as shown in:\n",
      "    https://scikit-learn.org/stable/modules/preprocessing.html\n",
      "Please also refer to the documentation for alternative solver options:\n",
      "    https://scikit-learn.org/stable/modules/linear_model.html#logistic-regression\n",
      "  extra_warning_msg=_LOGISTIC_SOLVER_CONVERGENCE_MSG,\n",
      "/opt/conda/lib/python3.7/site-packages/sklearn/linear_model/_logistic.py:818: ConvergenceWarning: lbfgs failed to converge (status=1):\n",
      "STOP: TOTAL NO. of ITERATIONS REACHED LIMIT.\n",
      "\n",
      "Increase the number of iterations (max_iter) or scale the data as shown in:\n",
      "    https://scikit-learn.org/stable/modules/preprocessing.html\n",
      "Please also refer to the documentation for alternative solver options:\n",
      "    https://scikit-learn.org/stable/modules/linear_model.html#logistic-regression\n",
      "  extra_warning_msg=_LOGISTIC_SOLVER_CONVERGENCE_MSG,\n",
      "/opt/conda/lib/python3.7/site-packages/sklearn/linear_model/_logistic.py:818: ConvergenceWarning: lbfgs failed to converge (status=1):\n",
      "STOP: TOTAL NO. of ITERATIONS REACHED LIMIT.\n",
      "\n",
      "Increase the number of iterations (max_iter) or scale the data as shown in:\n",
      "    https://scikit-learn.org/stable/modules/preprocessing.html\n",
      "Please also refer to the documentation for alternative solver options:\n",
      "    https://scikit-learn.org/stable/modules/linear_model.html#logistic-regression\n",
      "  extra_warning_msg=_LOGISTIC_SOLVER_CONVERGENCE_MSG,\n",
      "/opt/conda/lib/python3.7/site-packages/sklearn/linear_model/_logistic.py:818: ConvergenceWarning: lbfgs failed to converge (status=1):\n",
      "STOP: TOTAL NO. of ITERATIONS REACHED LIMIT.\n",
      "\n",
      "Increase the number of iterations (max_iter) or scale the data as shown in:\n",
      "    https://scikit-learn.org/stable/modules/preprocessing.html\n",
      "Please also refer to the documentation for alternative solver options:\n",
      "    https://scikit-learn.org/stable/modules/linear_model.html#logistic-regression\n",
      "  extra_warning_msg=_LOGISTIC_SOLVER_CONVERGENCE_MSG,\n",
      "/opt/conda/lib/python3.7/site-packages/sklearn/linear_model/_logistic.py:818: ConvergenceWarning: lbfgs failed to converge (status=1):\n",
      "STOP: TOTAL NO. of ITERATIONS REACHED LIMIT.\n",
      "\n",
      "Increase the number of iterations (max_iter) or scale the data as shown in:\n",
      "    https://scikit-learn.org/stable/modules/preprocessing.html\n",
      "Please also refer to the documentation for alternative solver options:\n",
      "    https://scikit-learn.org/stable/modules/linear_model.html#logistic-regression\n",
      "  extra_warning_msg=_LOGISTIC_SOLVER_CONVERGENCE_MSG,\n",
      "/opt/conda/lib/python3.7/site-packages/sklearn/linear_model/_logistic.py:818: ConvergenceWarning: lbfgs failed to converge (status=1):\n",
      "STOP: TOTAL NO. of ITERATIONS REACHED LIMIT.\n",
      "\n",
      "Increase the number of iterations (max_iter) or scale the data as shown in:\n",
      "    https://scikit-learn.org/stable/modules/preprocessing.html\n",
      "Please also refer to the documentation for alternative solver options:\n",
      "    https://scikit-learn.org/stable/modules/linear_model.html#logistic-regression\n",
      "  extra_warning_msg=_LOGISTIC_SOLVER_CONVERGENCE_MSG,\n",
      "/opt/conda/lib/python3.7/site-packages/sklearn/linear_model/_logistic.py:818: ConvergenceWarning: lbfgs failed to converge (status=1):\n",
      "STOP: TOTAL NO. of ITERATIONS REACHED LIMIT.\n",
      "\n",
      "Increase the number of iterations (max_iter) or scale the data as shown in:\n",
      "    https://scikit-learn.org/stable/modules/preprocessing.html\n",
      "Please also refer to the documentation for alternative solver options:\n",
      "    https://scikit-learn.org/stable/modules/linear_model.html#logistic-regression\n",
      "  extra_warning_msg=_LOGISTIC_SOLVER_CONVERGENCE_MSG,\n",
      "/opt/conda/lib/python3.7/site-packages/sklearn/linear_model/_logistic.py:818: ConvergenceWarning: lbfgs failed to converge (status=1):\n",
      "STOP: TOTAL NO. of ITERATIONS REACHED LIMIT.\n",
      "\n",
      "Increase the number of iterations (max_iter) or scale the data as shown in:\n",
      "    https://scikit-learn.org/stable/modules/preprocessing.html\n",
      "Please also refer to the documentation for alternative solver options:\n",
      "    https://scikit-learn.org/stable/modules/linear_model.html#logistic-regression\n",
      "  extra_warning_msg=_LOGISTIC_SOLVER_CONVERGENCE_MSG,\n",
      "/opt/conda/lib/python3.7/site-packages/sklearn/base.py:446: UserWarning: X does not have valid feature names, but RFECV was fitted with feature names\n",
      "  \"X does not have valid feature names, but\"\n",
      "/opt/conda/lib/python3.7/site-packages/sklearn/linear_model/_logistic.py:818: ConvergenceWarning: lbfgs failed to converge (status=1):\n",
      "STOP: TOTAL NO. of ITERATIONS REACHED LIMIT.\n",
      "\n",
      "Increase the number of iterations (max_iter) or scale the data as shown in:\n",
      "    https://scikit-learn.org/stable/modules/preprocessing.html\n",
      "Please also refer to the documentation for alternative solver options:\n",
      "    https://scikit-learn.org/stable/modules/linear_model.html#logistic-regression\n",
      "  extra_warning_msg=_LOGISTIC_SOLVER_CONVERGENCE_MSG,\n",
      "/opt/conda/lib/python3.7/site-packages/sklearn/utils/deprecation.py:103: FutureWarning: The `grid_scores_` attribute is deprecated in version 1.0 in favor of `cv_results_` and will be removed in version 1.2.\n",
      "  warnings.warn(msg, category=FutureWarning)\n"
     ]
    },
    {
     "name": "stdout",
     "output_type": "stream",
     "text": [
      "Optimal number of features: 9\n",
      "Selected features: ['Age', 'Fare', 'TravelAlone', 'Pclass_1', 'Pclass_2', 'Embarked_C', 'Embarked_S', 'Sex_male', 'IsMinor']\n"
     ]
    },
    {
     "data": {
      "image/png": "[encoded data removed]",
      "text/plain": [
       "<Figure size 720x432 with 1 Axes>"
      ]
     },
     "metadata": {
      "needs_background": "light"
     },
     "output_type": "display_data"
    }
   ],
   "source": [
    "from sklearn.feature_selection import RFECV\n",
    "# Create the RFE object and compute a cross-validated score.\n",
    "# The \"accuracy\" scoring is proportional to the number of correct classifications\n",
    "rfecv = RFECV(estimator=LogisticRegression(), step=1, cv=10, scoring='accuracy')\n",
    "rfecv.fit(X, y)\n",
    "\n",
    "print(\"Optimal number of features: %d\" % rfecv.n_features_)\n",
    "print('Selected features: %s' % list(X.columns[rfecv.support_]))\n",
    "\n",
    "# Plot number of features VS. cross-validation scores\n",
    "plt.figure(figsize=(10,6))\n",
    "plt.xlabel(\"Number of features selected\")\n",
    "plt.ylabel(\"Cross validation score (nb of correct classifications)\")\n",
    "plt.plot(range(1, len(rfecv.grid_scores_) + 1), rfecv.grid_scores_)\n",
    "plt.show()"
   ]
  },
  {
   "cell_type": "code",
   "execution_count": 18,
   "id": "fe2c4ccc",
   "metadata": {
    "execution": {
     "iopub.execute_input": "2022-04-02T21:29:29.370171Z",
     "iopub.status.busy": "2022-04-02T21:29:29.357459Z",
     "iopub.status.idle": "2022-04-02T21:29:29.986946Z",
     "shell.execute_reply": "2022-04-02T21:29:29.986391Z",
     "shell.execute_reply.started": "2022-04-02T21:04:44.611668Z"
    },
    "executionInfo": {
     "elapsed": 1600,
     "status": "ok",
     "timestamp": 1648914414579,
     "user": {
      "displayName": "Faruk BAYKARA",
      "userId": "10616267388057131477"
     },
     "user_tz": -180
    },
    "id": "aVKsCbJy9SjJ",
    "outputId": "0b4c779e-a390-4258-994f-507789801aa1",
    "papermill": {
     "duration": 0.703808,
     "end_time": "2022-04-02T21:29:29.987096",
     "exception": false,
     "start_time": "2022-04-02T21:29:29.283288",
     "status": "completed"
    },
    "tags": []
   },
   "outputs": [
    {
     "data": {
      "image/png": "[encoded data removed]",
      "text/plain": [
       "<Figure size 576x360 with 2 Axes>"
      ]
     },
     "metadata": {
      "needs_background": "light"
     },
     "output_type": "display_data"
    }
   ],
   "source": [
    "Selected_features = ['Age', 'TravelAlone', 'Pclass_1', 'Pclass_2', 'Embarked_C', \n",
    "                     'Embarked_S', 'Sex_male', 'IsMinor']\n",
    "X = final_train[Selected_features]\n",
    "\n",
    "plt.subplots(figsize=(8, 5))\n",
    "sns.heatmap(X.corr(), annot=True, cmap=\"RdYlGn\")\n",
    "plt.show()"
   ]
  },
  {
   "cell_type": "markdown",
   "id": "b3bb2313",
   "metadata": {
    "papermill": {
     "duration": 0.050609,
     "end_time": "2022-04-02T21:29:30.089875",
     "exception": false,
     "start_time": "2022-04-02T21:29:30.039266",
     "status": "completed"
    },
    "tags": []
   },
   "source": [
    "# 3.2 Model Training Based on train/test Split "
   ]
  },
  {
   "cell_type": "code",
   "execution_count": 19,
   "id": "0650665d",
   "metadata": {
    "execution": {
     "iopub.execute_input": "2022-04-02T21:29:30.206184Z",
     "iopub.status.busy": "2022-04-02T21:29:30.205566Z",
     "iopub.status.idle": "2022-04-02T21:29:30.237143Z",
     "shell.execute_reply": "2022-04-02T21:29:30.235972Z",
     "shell.execute_reply.started": "2022-04-02T21:04:45.318688Z"
    },
    "executionInfo": {
     "elapsed": 260,
     "status": "ok",
     "timestamp": 1648914965928,
     "user": {
      "displayName": "Faruk BAYKARA",
      "userId": "10616267388057131477"
     },
     "user_tz": -180
    },
    "id": "aBC0VBmD98PA",
    "outputId": "258dcfb1-9eff-4213-a9f5-bacddb90af5d",
    "papermill": {
     "duration": 0.095672,
     "end_time": "2022-04-02T21:29:30.237396",
     "exception": false,
     "start_time": "2022-04-02T21:29:30.141724",
     "status": "completed"
    },
    "tags": []
   },
   "outputs": [
    {
     "name": "stdout",
     "output_type": "stream",
     "text": [
      "Train/Test split results:\n",
      "LogisticRegression accuracy is 0.782\n",
      "LogisticRegression log_loss is 0.504\n",
      "LogisticRegression auc is 0.838\n"
     ]
    }
   ],
   "source": [
    "X = final_train[Selected_features]\n",
    "y = final_train['Survived']\n",
    "\n",
    "X_train, X_test, y_train, y_test = train_test_split(X, y, test_size=0.2, random_state=2)\n",
    "\n",
    "logreg = LogisticRegression()\n",
    "logreg.fit(X_train, y_train)\n",
    "y_pred = logreg.predict(X_test)\n",
    "y_pred_proba = logreg.predict_proba(X_test)[:, 1]\n",
    "[fpr, tpr, thr] = roc_curve(y_test, y_pred_proba)\n",
    "print('Train/Test split results:')\n",
    "print(logreg.__class__.__name__+\" accuracy is %2.3f\" % accuracy_score(y_test, y_pred))\n",
    "print(logreg.__class__.__name__+\" log_loss is %2.3f\" % log_loss(y_test, y_pred_proba))\n",
    "print(logreg.__class__.__name__+\" auc is %2.3f\" % auc(fpr, tpr))"
   ]
  },
  {
   "cell_type": "markdown",
   "id": "3b93c91d",
   "metadata": {
    "papermill": {
     "duration": 0.050414,
     "end_time": "2022-04-02T21:29:30.340170",
     "exception": false,
     "start_time": "2022-04-02T21:29:30.289756",
     "status": "completed"
    },
    "tags": []
   },
   "source": [
    "# **4. Model Evaluation and Analysis**\n",
    "\n",
    "# 4.1 Receiver Operating Characteristics (ROC Curve)\n",
    "\n",
    "The receiving operating characteristic is a measure of classifier performance. Using the proportion of positive data points that are correctly considered as positive and the proportion of negative data points that are mistakenly considered as positive, we generate a graphic that shows the trade off between the rate at which you can correctly predict something with the rate of incorrectly predicting something. Ultimately, we’re concerned about the area under the ROC curve, or AUROC."
   ]
  },
  {
   "cell_type": "code",
   "execution_count": 20,
   "id": "6662fc22",
   "metadata": {
    "execution": {
     "iopub.execute_input": "2022-04-02T21:29:30.445867Z",
     "iopub.status.busy": "2022-04-02T21:29:30.445213Z",
     "iopub.status.idle": "2022-04-02T21:29:30.659750Z",
     "shell.execute_reply": "2022-04-02T21:29:30.660275Z",
     "shell.execute_reply.started": "2022-04-02T21:04:45.365949Z"
    },
    "papermill": {
     "duration": 0.268832,
     "end_time": "2022-04-02T21:29:30.660448",
     "exception": false,
     "start_time": "2022-04-02T21:29:30.391616",
     "status": "completed"
    },
    "tags": []
   },
   "outputs": [
    {
     "name": "stderr",
     "output_type": "stream",
     "text": [
      "/opt/conda/lib/python3.7/site-packages/ipykernel_launcher.py:21: UserWarning: color is redundantly defined by the 'color' keyword argument and the fmt string \"k--\" (-> color='k'). The keyword argument will take precedence.\n",
      "/opt/conda/lib/python3.7/site-packages/ipykernel_launcher.py:22: UserWarning: color is redundantly defined by the 'color' keyword argument and the fmt string \"k--\" (-> color='k'). The keyword argument will take precedence.\n"
     ]
    },
    {
     "data": {
      "image/png": "[encoded data removed]",
      "text/plain": [
       "<Figure size 432x288 with 1 Axes>"
      ]
     },
     "metadata": {
      "needs_background": "light"
     },
     "output_type": "display_data"
    }
   ],
   "source": [
    "#Import roc_curve, auc\n",
    "from sklearn.metrics import roc_curve, auc\n",
    "\n",
    "y_train_score = logreg.decision_function(X_train)\n",
    "\n",
    "# Calculate the fpr, tpr, and thresholds for the training set\n",
    "train_fpr, train_tpr, thresholds = roc_curve(y_train, y_train_score)\n",
    "\n",
    "#Calculate the probability scores of each point in the test set\n",
    "y_test_score = logreg.decision_function(X_test)\n",
    "\n",
    "#Calculate the fpr, tpr, and thresholds for the test set\n",
    "test_fpr, test_tpr, test_thresholds = roc_curve(y_test, y_test_score)\n",
    "\n",
    "\n",
    "#Plotting ROC curve\n",
    "idx = np.min(np.where(tpr > 0.95))\n",
    "plt.figure()\n",
    "plt.plot(fpr, tpr, color='coral', label='ROC curve (area = %0.3f)' % auc(fpr, tpr))\n",
    "plt.plot([0, 1], [0, 1], 'k--')\n",
    "plt.plot([0,fpr[idx]], [tpr[idx],tpr[idx]], 'k--', color='blue')\n",
    "plt.plot([fpr[idx],fpr[idx]], [0,tpr[idx]], 'k--', color='blue')\n",
    "plt.xlim([0.0, 1.0])\n",
    "plt.ylim([0.0, 1.05])\n",
    "plt.xlabel('False Positive Rate (1 - specificity)', fontsize=14)\n",
    "plt.ylabel('True Positive Rate (recall)', fontsize=14)\n",
    "plt.title('Receiver operating characteristic (ROC) curve')\n",
    "plt.legend(loc=\"lower right\")\n",
    "plt.show()"
   ]
  },
  {
   "cell_type": "markdown",
   "id": "5b9cba02",
   "metadata": {
    "papermill": {
     "duration": 0.053223,
     "end_time": "2022-04-02T21:29:30.766686",
     "exception": false,
     "start_time": "2022-04-02T21:29:30.713463",
     "status": "completed"
    },
    "tags": []
   },
   "source": [
    "# **4.2 K-fold Cross-validation**\n",
    "\n",
    "When evaluating models, we often want to assess how well it performs in predicting the target variable on different subsets of the data. One such technique for doing this is k-fold cross-validation, which partitions the data into k equally sized segments (called ‘folds’). One fold is held out for validation while the other k-1 folds are used to train the model and then used to predict the target variable in our testing data. This process is repeated k times, with the performance of each model in predicting the hold-out set being tracked using a performance metric such as accuracy. The most common variation of cross validation is 10-fold cross-validation."
   ]
  },
  {
   "cell_type": "code",
   "execution_count": 21,
   "id": "5db725ef",
   "metadata": {
    "execution": {
     "iopub.execute_input": "2022-04-02T21:29:30.880152Z",
     "iopub.status.busy": "2022-04-02T21:29:30.876062Z",
     "iopub.status.idle": "2022-04-02T21:29:31.239107Z",
     "shell.execute_reply": "2022-04-02T21:29:31.239616Z",
     "shell.execute_reply.started": "2022-04-02T21:04:45.592301Z"
    },
    "papermill": {
     "duration": 0.41905,
     "end_time": "2022-04-02T21:29:31.239780",
     "exception": false,
     "start_time": "2022-04-02T21:29:30.820730",
     "status": "completed"
    },
    "tags": []
   },
   "outputs": [
    {
     "name": "stderr",
     "output_type": "stream",
     "text": [
      "/opt/conda/lib/python3.7/site-packages/sklearn/linear_model/_logistic.py:818: ConvergenceWarning: lbfgs failed to converge (status=1):\n",
      "STOP: TOTAL NO. of ITERATIONS REACHED LIMIT.\n",
      "\n",
      "Increase the number of iterations (max_iter) or scale the data as shown in:\n",
      "    https://scikit-learn.org/stable/modules/preprocessing.html\n",
      "Please also refer to the documentation for alternative solver options:\n",
      "    https://scikit-learn.org/stable/modules/linear_model.html#logistic-regression\n",
      "  extra_warning_msg=_LOGISTIC_SOLVER_CONVERGENCE_MSG,\n",
      "/opt/conda/lib/python3.7/site-packages/sklearn/linear_model/_logistic.py:818: ConvergenceWarning: lbfgs failed to converge (status=1):\n",
      "STOP: TOTAL NO. of ITERATIONS REACHED LIMIT.\n",
      "\n",
      "Increase the number of iterations (max_iter) or scale the data as shown in:\n",
      "    https://scikit-learn.org/stable/modules/preprocessing.html\n",
      "Please also refer to the documentation for alternative solver options:\n",
      "    https://scikit-learn.org/stable/modules/linear_model.html#logistic-regression\n",
      "  extra_warning_msg=_LOGISTIC_SOLVER_CONVERGENCE_MSG,\n",
      "/opt/conda/lib/python3.7/site-packages/sklearn/linear_model/_logistic.py:818: ConvergenceWarning: lbfgs failed to converge (status=1):\n",
      "STOP: TOTAL NO. of ITERATIONS REACHED LIMIT.\n",
      "\n",
      "Increase the number of iterations (max_iter) or scale the data as shown in:\n",
      "    https://scikit-learn.org/stable/modules/preprocessing.html\n",
      "Please also refer to the documentation for alternative solver options:\n",
      "    https://scikit-learn.org/stable/modules/linear_model.html#logistic-regression\n",
      "  extra_warning_msg=_LOGISTIC_SOLVER_CONVERGENCE_MSG,\n"
     ]
    },
    {
     "name": "stdout",
     "output_type": "stream",
     "text": [
      "K-fold cross-validation results:\n",
      "LogisticRegression average accuracy: 0.796 (+/-0.024)\n",
      "LogisticRegression average log_loss: 0.454 (+/-0.037)\n",
      "LogisticRegression average auc: 0.850 (+/-0.028)\n"
     ]
    }
   ],
   "source": [
    "from sklearn.model_selection import cross_validate\n",
    "\n",
    "scoring = {'accuracy': 'accuracy', 'log_loss': 'neg_log_loss', 'auc': 'roc_auc'}\n",
    "\n",
    "modelCV = LogisticRegression()\n",
    "\n",
    "results = cross_validate(modelCV, X, y, cv=10, scoring=list(scoring.values()), \n",
    "                         return_train_score=False)\n",
    "\n",
    "print('K-fold cross-validation results:')\n",
    "for sc in range(len(scoring)):\n",
    "    print(modelCV.__class__.__name__+\" average %s: %.3f (+/-%.3f)\" % (list(scoring.keys())[sc], -results['test_%s' % list(scoring.values())[sc]].mean()\n",
    "                               if list(scoring.values())[sc]=='neg_log_loss' \n",
    "                               else results['test_%s' % list(scoring.values())[sc]].mean(), \n",
    "                               results['test_%s' % list(scoring.values())[sc]].std()))"
   ]
  },
  {
   "cell_type": "markdown",
   "id": "28f5cd60",
   "metadata": {
    "papermill": {
     "duration": 0.053418,
     "end_time": "2022-04-02T21:29:31.346216",
     "exception": false,
     "start_time": "2022-04-02T21:29:31.292798",
     "status": "completed"
    },
    "tags": []
   },
   "source": [
    "# **5.Submission**"
   ]
  },
  {
   "cell_type": "code",
   "execution_count": 22,
   "id": "acbf8e4a",
   "metadata": {
    "execution": {
     "iopub.execute_input": "2022-04-02T21:29:31.453981Z",
     "iopub.status.busy": "2022-04-02T21:29:31.453377Z",
     "iopub.status.idle": "2022-04-02T21:29:31.470025Z",
     "shell.execute_reply": "2022-04-02T21:29:31.470535Z",
     "shell.execute_reply.started": "2022-04-02T21:04:45.981333Z"
    },
    "executionInfo": {
     "elapsed": 368,
     "status": "ok",
     "timestamp": 1648914954255,
     "user": {
      "displayName": "Faruk BAYKARA",
      "userId": "10616267388057131477"
     },
     "user_tz": -180
    },
    "id": "2ymnUo53_Dxl",
    "outputId": "0c0a835c-b1a1-40fc-85fe-670fbdc2fb63",
    "papermill": {
     "duration": 0.071933,
     "end_time": "2022-04-02T21:29:31.470689",
     "exception": false,
     "start_time": "2022-04-02T21:29:31.398756",
     "status": "completed"
    },
    "tags": []
   },
   "outputs": [
    {
     "data": {
      "text/html": [
       "<div>\n",
       "<style scoped>\n",
       "    .dataframe tbody tr th:only-of-type {\n",
       "        vertical-align: middle;\n",
       "    }\n",
       "\n",
       "    .dataframe tbody tr th {\n",
       "        vertical-align: top;\n",
       "    }\n",
       "\n",
       "    .dataframe thead th {\n",
       "        text-align: right;\n",
       "    }\n",
       "</style>\n",
       "<table border=\"1\" class=\"dataframe\">\n",
       "  <thead>\n",
       "    <tr style=\"text-align: right;\">\n",
       "      <th></th>\n",
       "      <th>PassengerId</th>\n",
       "      <th>Survived</th>\n",
       "    </tr>\n",
       "  </thead>\n",
       "  <tbody>\n",
       "    <tr>\n",
       "      <th>413</th>\n",
       "      <td>1305</td>\n",
       "      <td>0</td>\n",
       "    </tr>\n",
       "    <tr>\n",
       "      <th>414</th>\n",
       "      <td>1306</td>\n",
       "      <td>1</td>\n",
       "    </tr>\n",
       "    <tr>\n",
       "      <th>415</th>\n",
       "      <td>1307</td>\n",
       "      <td>0</td>\n",
       "    </tr>\n",
       "    <tr>\n",
       "      <th>416</th>\n",
       "      <td>1308</td>\n",
       "      <td>0</td>\n",
       "    </tr>\n",
       "    <tr>\n",
       "      <th>417</th>\n",
       "      <td>1309</td>\n",
       "      <td>0</td>\n",
       "    </tr>\n",
       "  </tbody>\n",
       "</table>\n",
       "</div>"
      ],
      "text/plain": [
       "     PassengerId  Survived\n",
       "413         1305         0\n",
       "414         1306         1\n",
       "415         1307         0\n",
       "416         1308         0\n",
       "417         1309         0"
      ]
     },
     "execution_count": 22,
     "metadata": {},
     "output_type": "execute_result"
    }
   ],
   "source": [
    "final_test['Survived'] = logreg.predict(final_test[Selected_features])\n",
    "final_test['PassengerId'] = test_data['PassengerId']\n",
    "\n",
    "submission = final_test[['PassengerId','Survived']]\n",
    "\n",
    "submission.to_csv(\"submission.csv\", index=False)\n",
    "\n",
    "submission.tail()"
   ]
  }
 ],
 "metadata": {
  "kernelspec": {
   "display_name": "Python 3",
   "language": "python",
   "name": "python3"
  },
  "language_info": {
   "codemirror_mode": {
    "name": "ipython",
    "version": 3
   },
   "file_extension": ".py",
   "mimetype": "text/x-python",
   "name": "python",
   "nbconvert_exporter": "python",
   "pygments_lexer": "ipython3",
   "version": "3.7.12"
  },
  "papermill": {
   "default_parameters": {},
   "duration": 18.031998,
   "end_time": "2022-04-02T21:29:32.234164",
   "environment_variables": {},
   "exception": null,
   "input_path": "__notebook__.ipynb",
   "output_path": "__notebook__.ipynb",
   "parameters": {},
   "start_time": "2022-04-02T21:29:14.202166",
   "version": "2.3.3"
  }
 },
 "nbformat": 4,
 "nbformat_minor": 5
}
